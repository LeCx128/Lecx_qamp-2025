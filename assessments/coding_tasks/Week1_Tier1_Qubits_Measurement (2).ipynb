{
  "cells": [
    {
      "cell_type": "markdown",
      "metadata": {},
      "source": [
        "# Week 1 \u2014 Qubits & Measurement (Grades 6\u20138)\n**Quantum Compass spine** \u2022 **Tool:** IBM Quantum Composer (visual)\n\n**How to use this notebook**\n- Work in pairs. Build circuits in **Composer** and record results here.\n- Only the cells marked **Optional (Code)** require Python/Qiskit.\n- Keep a compass sketch on your board: **\u2191 N**, **\u2193 S**, **\u2192 E**.\n\n**Big idea:** A qubit is like an **arrow** on a compass.\n- **X gate** = flip **North \u2194 South** \u2192 deterministic.\n- **H gate** = turn **90\u00b0 to East** (from |0\u27e9) \u2192 N/S checks ~50/50.\n- **Noise** = tiny **wobble** (angle jitter) that nudges results.\n"
      ]
    },
    {
      "cell_type": "markdown",
      "metadata": {},
      "source": [
        "## Part 0 \u2014 Do Now (2 min)\n1) Draw a mini compass with **N**, **S**, and **E** arrows.\n2) Which direction gives **50/50** on **N/S** checks? **E** (or **W**).\n"
      ]
    },
    {
      "cell_type": "markdown",
      "metadata": {},
      "source": [
        "## Part A \u2014 Scene 1: Flip Test (**X**)\n**Goal:** Show a guaranteed outcome (deterministic).\n\n**Composer steps**\n1) New circuit \u2192 **q0: X** \u2192 **Measure q0 \u2192 c0**\n2) Set **shots = 100** \u2192 **Run**\n\n**Record your counts (100 shots):**\n- Count(0) = ________\n- Count(1) = ________\n\n**Explain**: Why is this \u201cclassical\u201d or deterministic?\n"
      ]
    },
    {
      "cell_type": "markdown",
      "metadata": {},
      "source": [
        "### Optional (Code) \u2014 Reproduce X+Measure with Qiskit"
      ]
    },
    {
      "cell_type": "code",
      "execution_count": null,
      "metadata": {},
      "outputs": [],
      "source": [
        "# !pip install 'qiskit>=2.1' qiskit-aer --quiet\nfrom qiskit import QuantumCircuit\nfrom qiskit_aer import Aer\n\nqc = QuantumCircuit(1,1)\nqc.x(0)\nqc.measure(0,0)\nbackend = Aer.get_backend('aer_simulator')\nbackend.run(qc, shots=100).result().get_counts()"
      ]
    },
    {
      "cell_type": "markdown",
      "metadata": {},
      "source": [
        "## Part B \u2014 Scene 2: Equal Mix (**H**)\n**Goal:** See ~50/50 on N/S checks (probabilistic).\n\n**Compass idea:** From **|0\u27e9 (North)**, **H** turns the arrow **90\u00b0 to East** (equator), so N/S checks are about **50% / 50%**.\n\n**Composer steps**\n1) Remove **X** \u2192 **q0: H** \u2192 **Measure q0 \u2192 c0**\n2) Set **shots = 1000** \u2192 **Run**\n\n**Record your counts (1000 shots):**\n- Count(0) = ________\n- Count(1) = ________\n\n**Compute probabilities (round to 2 decimals):**\n- P(0) = Count(0) / 1000 = ________\n- P(1) = Count(1) / 1000 = ________\n\n**Explain in compass words:** What did **H** do and why does that make ~50/50 on **N/S**?\n"
      ]
    },
    {
      "cell_type": "markdown",
      "metadata": {},
      "source": [
        "### Optional (Code) \u2014 Reproduce H+Measure with Qiskit"
      ]
    },
    {
      "cell_type": "code",
      "execution_count": null,
      "metadata": {},
      "outputs": [],
      "source": [
        "from qiskit import QuantumCircuit\nfrom qiskit_aer import Aer\n\nqc2 = QuantumCircuit(1,1)\nqc2.h(0)\nqc2.measure(0,0)\nbackend = Aer.get_backend('aer_simulator')\nbackend.run(qc2, shots=1000).result().get_counts()"
      ]
    },
    {
      "cell_type": "markdown",
      "metadata": {},
      "source": [
        "## Part C \u2014 Scene 3: The Wobble (**Noise**)\n**Goal:** Notice small shifts; not every run is exactly the same.\n\n**Task:** Run **H + Measure** **three times** at **1000 shots**. Fill your table in the worksheet.\n\n**Questions:**\n- Did you ever see exactly **500/500**? Why or why not?\n- How would a small angle **wobble** change N/S probabilities?\n"
      ]
    },
    {
      "cell_type": "markdown",
      "metadata": {},
      "source": [
        "### Optional (Code) \u2014 Tiny bit-flip noise model"
      ]
    },
    {
      "cell_type": "code",
      "execution_count": null,
      "metadata": {},
      "outputs": [],
      "source": [
        "from qiskit_aer import Aer\nfrom qiskit_aer.noise import NoiseModel, errors\nfrom qiskit import QuantumCircuit\n\nqc3 = QuantumCircuit(1,1)\nqc3.h(0)\nqc3.i(0)\nqc3.measure(0,0)\n\nnoise_model = NoiseModel()\nnoise_model.add_all_quantum_error(errors.pauli_error([('X', 0.02), ('I', 0.98)]), ['id'])\n\nbackend = Aer.get_backend('aer_simulator')\nbackend.run(qc3, shots=2000, noise_model=noise_model).result().get_counts()"
      ]
    },
    {
      "cell_type": "markdown",
      "metadata": {},
      "source": [
        "## Exit Ticket (2\u20133 sentences)\nWhere did we see **bit** behavior (deterministic) and where **qubit** behavior (probabilistic)? Explain using the **compass** idea.\n"
      ]
    },
    {
      "cell_type": "markdown",
      "metadata": {},
      "source": [
        "---\n### Appendix \u2014 Quick reference\n- **X**: flip **N \u2194 S** (deterministic)\n- **H**: from **N \u2192 E** (or **S \u2192 W**), gives ~50/50 on N/S checks\n- **Measurement**: repeated checks \u2192 counts \u2192 probabilities\n- **Shots**: number of repeats (more = better estimate)\n- **Noise**: tiny angle jitter \u2192 small shifts in probabilities\n"
      ]
    }
  ],
  "metadata": {
    "kernelspec": {
      "display_name": "Python 3",
      "language": "python",
      "name": "python3"
    },
    "language_info": {
      "name": "python",
      "pygments_lexer": "ipython3"
    }
  },
  "nbformat": 4,
  "nbformat_minor": 5
}