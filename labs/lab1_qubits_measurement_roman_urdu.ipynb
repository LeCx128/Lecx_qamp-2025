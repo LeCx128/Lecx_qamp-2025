{
 "cells": [
  {
   "cell_type": "markdown",
   "id": "8705a935",
   "metadata": {},
   "source": [
    "# Lab 1: Qubits & Measurement (Roman Urdu)\n",
    "Aap ka pehla quantum lab! Is notebook mein aap qubits, measurement, aur Qiskit ka istemal seekhein ge."
   ]
  }
 ],
 "metadata": {
  "language_info": {
   "name": "python"
  }
 },
 "nbformat": 4,
 "nbformat_minor": 5
}
