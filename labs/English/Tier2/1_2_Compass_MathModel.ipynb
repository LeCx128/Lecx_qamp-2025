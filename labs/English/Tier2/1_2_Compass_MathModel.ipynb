{
 "cells": [
  {
   "cell_type": "markdown",
   "id": "26074af2",
   "metadata": {},
   "source": [
    "# QBITS State Vectors and Your First Qiskit Circuit\n",
    "\n",
    "## Session 2 – From the Compass to the Mathematical Model: Rotation and Field Stability\n",
    "\n",
    "### UDL + 5E Model — Duration: 2 hours\n"
   ]
  },
  {
   "cell_type": "markdown",
   "id": "a376a79a",
   "metadata": {},
   "source": [
    "## 1. Engage — Connect with Experience\n",
    "\n",
    "> “Now your compass seems to enter a more complex dance.  \n",
    "It first responds to a field pushing it toward one angle, but immediately another field —slightly offset— changes its orientation.  \n",
    "The needle rotates twice, as if receiving two successive instructions on where to point.  \n",
    "Could you describe this movement with a mathematical model?”\n",
    "\n",
    "**Guiding Questions:**  \n",
    "- What happens if two magnets, oriented in different directions, act on the same compass?  \n",
    "- Can we represent this double rotation as the sum or composition of two rotations?  \n",
    "- Does the compass end up in the same position if we reverse the order of the fields?  \n",
    "\n",
    "**Brief Activity:**  \n",
    "- Represent the two successive rotations using your body or a ruler.  \n",
    "- Draw the resulting orientation vectors after each rotation.  \n",
    "- Observe if the order of application changes the outcome.  \n",
    "\n",
    "**Physical Concept:**  \n",
    "- Two successive rotations can be represented through **multiplication of rotation matrices**.  \n",
    "- In a physical system, this corresponds to the **composition of magnetic field effects** in different directions.  \n",
    "- If the system is stable, small perturbations do not significantly alter the final direction.  \n",
    "\n",
    "**Learning Objective:**  \n",
    "- Understand how a physical phenomenon (the combination of magnetic fields) can be modeled using matrix operations.  \n",
    "- Connect physical rotation with the idea of **successive linear transformations**, anticipating its use in quantum modeling.\n"
   ]
  },
  {
   "cell_type": "markdown",
   "id": "a6c8d5ca",
   "metadata": {},
   "source": [
    "## 2. Explore — Explore Without Code\n",
    "\n",
    "**Free Representation of the Phenomenon:**  \n",
    "- On the board, instructors draw an initial vector (the compass needle).  \n",
    "- Apply a first rotation of 30°, then another of 45°, visualizing the result.  \n",
    "- Discuss what happens if the order of the rotations is changed.\n",
    "\n",
    "**Dialogue Questions:**  \n",
    "- Is it equivalent to apply a 30° rotation first and then a 45° rotation, compared to doing it in the reverse order?  \n",
    "- What property of matrices allows us to model these transformations?\n",
    "\n",
    "**Objective:**  \n",
    "Build a geometric intuition about the **composition of transformations** before moving to code.\n"
   ]
  },
  {
   "cell_type": "markdown",
   "id": "ce0a284c",
   "metadata": {},
   "source": [
    "## 3. Explain — Explain the Formal Concept\n",
    "\n",
    "The **rotation matrix** in the plane is:\n",
    "\n",
    "$$\n",
    "R(\\theta) = \n",
    "\\begin{bmatrix}\n",
    "\\cos \\theta & -\\sin \\theta \\\\\n",
    "\\sin \\theta & \\cos \\theta\n",
    "\\end{bmatrix}\n",
    "$$\n",
    "\n",
    "Two successive rotations are represented as:\n",
    "\n",
    "$$\n",
    "R(\\theta_2) R(\\theta_1) = R(\\theta_1 + \\theta_2)\n",
    "$$\n",
    "\n",
    "That is, **rotations in the plane are commutative**, which is not always the case in more complex systems (such as quantum systems).  \n",
    "This concept sets the stage for understanding non-commuting operators.\n"
   ]
  },
  {
   "cell_type": "markdown",
   "id": "65eb4732",
   "metadata": {},
   "source": [
    "## 4. Elaborate — Apply with Python\n",
    "**Practical Activity:**  \n",
    "Simulate the combination of two rotations (30° and 45°) applied to an initial vector.\n"
   ]
  },
  {
   "cell_type": "code",
   "execution_count": null,
   "id": "cda69bc6",
   "metadata": {},
   "outputs": [],
   "source": [
    "import numpy as np\n",
    "import matplotlib.pyplot as plt\n",
    "\n",
    "# 4.1 Initial Parameters\n",
    "initial_vector = np.array([1, 0])   # Initial vector\n",
    "theta1 = np.deg2rad(30)             # First rotation\n",
    "theta2 = np.deg2rad(45)             # Second rotation\n",
    "\n",
    "# 4.2 Rotation Matrices\n",
    "R1 = np.array([[np.cos(theta1), -np.sin(theta1)],\n",
    "               [np.sin(theta1),  np.cos(theta1)]])\n",
    "\n",
    "R2 = np.array([[np.cos(theta2), -np.sin(theta2)],\n",
    "               [np.sin(theta2),  np.cos(theta2)]])\n",
    "\n",
    "# 4.3 Apply Rotations\n",
    "vector_after_first = R1 @ initial_vector       # After first rotation\n",
    "vector_after_second = R2 @ vector_after_first  # After second rotation\n",
    "vector_total = (R2 @ R1) @ initial_vector     # Total rotation\n",
    "\n",
    "# 4.4 Plot\n",
    "plt.figure(figsize=(6,6))\n",
    "plt.quiver(0, 0, initial_vector[0], initial_vector[1], angles='xy', scale_units='xy', scale=1, color='gray', label='Initial')\n",
    "plt.quiver(0, 0, vector_after_first[0], vector_after_first[1], angles='xy', scale_units='xy', scale=1, color='orange', label='After 30°')\n",
    "plt.quiver(0, 0, vector_after_second[0], vector_after_second[1], angles='xy', scale_units='xy', scale=1, color='blue', label='After additional 45°')\n",
    "plt.quiver(0, 0, vector_total[0], vector_total[1], angles='xy', scale_units='xy', scale=1, color='green', linestyle='--', label='Total Rotation')\n",
    "\n",
    "plt.xlim(-1.2, 1.2)\n",
    "plt.ylim(-1.2, 1.2)\n",
    "plt.gca().set_aspect('equal')\n",
    "plt.title('Composition of Rotations — Compass under Two Fields')\n",
    "plt.legend()\n",
    "plt.show()\n"
   ]
  },
  {
   "cell_type": "markdown",
   "id": "bb5f1f13",
   "metadata": {},
   "source": [
    "## 5. Evaluate — Reflection and Formative Assessment\n",
    "\n",
    "**Closing Questions:**  \n",
    "- What relationship do you observe between the physical rotation and matrix multiplication?  \n",
    "- Does the order of rotations change the result?  \n",
    "- How could you connect this phenomenon to the notion of quantum states rotated by operators?  \n",
    "\n",
    "**Teaching Log:**  \n",
    "Write in three lines how you would explain this concept to your students using visual analogies or classroom experiences.\n"
   ]
  }
 ],
 "metadata": {
  "language_info": {
   "name": "python"
  }
 },
 "nbformat": 4,
 "nbformat_minor": 5
}
