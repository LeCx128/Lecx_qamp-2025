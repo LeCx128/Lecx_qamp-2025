{
 "cells": [
  {
   "cell_type": "markdown",
   "id": "578fb264",
   "metadata": {},
   "source": [
    "# Lab 1: Qubits & Measurement\n",
    "\n",
    "Welcome to your first quantum lab! In this notebook, you'll learn about qubits, measurement, and how to use Qiskit to run your first quantum circuit.\n",
    "\n",
    "\n",
    "**Learning Objectives:**\n",
    "- Understand what a qubit is\n",
    "- Learn about measurement in quantum computing\n",
    "- Run your first quantum circuit using Qiskit\n"
   ]
  },
  {
   "cell_type": "markdown",
   "id": "f5a0466a",
   "metadata": {},
   "source": [
    "## 1. What is a Qubit?\n",
    "A qubit (quantum bit) is the basic unit of quantum information. Unlike a classical bit, which can be 0 or 1, a qubit can be in a superposition of both 0 and 1 at the same time.\n"
   ]
  },
  {
   "cell_type": "markdown",
   "id": "6de5233f",
   "metadata": {},
   "source": [
    "## 2. Visualizing a Qubit\n",
    "We can visualize a qubit using the Bloch sphere. Let's see how to create and visualize a qubit in Qiskit.\n"
   ]
  },
  {
   "cell_type": "code",
   "execution_count": null,
   "id": "06854c90",
   "metadata": {},
   "outputs": [],
   "source": [
    "# Import required libraries\n",
    "from qiskit import QuantumCircuit, Aer, execute\n",
    "from qiskit.visualization import plot_bloch_vector\n",
    "from math import pi\n",
    "import matplotlib.pyplot as plt\n"
   ]
  },
  {
   "cell_type": "code",
   "execution_count": null,
   "id": "d6fb0757",
   "metadata": {},
   "outputs": [],
   "source": [
    "# Create a quantum circuit with 1 qubit\n",
    "qc = QuantumCircuit(1)\n",
    "qc.draw('mpl')\n"
   ]
  },
  {
   "cell_type": "markdown",
   "id": "af9c153a",
   "metadata": {},
   "source": [
    "## 3. Measuring a Qubit\n",
    "When we measure a qubit, we get either 0 or 1. Let's measure a qubit in the |0⟩ state and see the result.\n"
   ]
  },
  {
   "cell_type": "code",
   "execution_count": null,
   "id": "f35359fd",
   "metadata": {},
   "outputs": [],
   "source": [
    "# Add a classical bit for measurement\n",
    "from qiskit import ClassicalRegister\n",
    "qc.add_register(ClassicalRegister(1))\n",
    "qc.measure(0, 0)\n",
    "qc.draw('mpl')\n"
   ]
  },
  {
   "cell_type": "code",
   "execution_count": null,
   "id": "5740ef95",
   "metadata": {},
   "outputs": [],
   "source": [
    "# Run the circuit on a simulator\n",
    "simulator = Aer.get_backend('qasm_simulator')\n",
    "job = execute(qc, simulator, shots=1000)\n",
    "result = job.result()\n",
    "counts = result.get_counts(qc)\n",
    "print('Measurement results:', counts)\n"
   ]
  },
  {
   "cell_type": "markdown",
   "id": "8f65a7d4",
   "metadata": {},
   "source": [
    "## 4. Try It Yourself!\n",
    "Change the state of the qubit using an X gate (which flips the qubit from |0⟩ to |1⟩) and measure again. What do you observe?\n"
   ]
  },
  {
   "cell_type": "code",
   "execution_count": null,
   "id": "7609a2f2",
   "metadata": {},
   "outputs": [],
   "source": [
    "# Reset and apply X gate\n",
    "qc2 = QuantumCircuit(1, 1)\n",
    "qc2.x(0)\n",
    "qc2.measure(0, 0)\n",
    "qc2.draw('mpl')\n"
   ]
  },
  {
   "cell_type": "code",
   "execution_count": null,
   "id": "2eff94a7",
   "metadata": {},
   "outputs": [],
   "source": [
    "# Run the new circuit\n",
    "job2 = execute(qc2, simulator, shots=1000)\n",
    "result2 = job2.result()\n",
    "counts2 = result2.get_counts(qc2)\n",
    "print('Measurement results after X gate:', counts2)\n"
   ]
  },
  {
   "cell_type": "markdown",
   "id": "84f3396f",
   "metadata": {},
   "source": [
    "## 5. Reflection\n",
    "- What is the difference between measuring a qubit in the |0⟩ state and the |1⟩ state?\n",
    "- How does the X gate affect the qubit?\n"
   ]
  },
  {
   "cell_type": "markdown",
   "id": "22ab5603",
   "metadata": {},
   "source": [
    "# Lab 1: Qubits & Measurement (English)\n",
    "Welcome to your first quantum lab! In this notebook, you'll learn about qubits, measurement, and how to use Qiskit to run your first quantum circuit."
   ]
  }
 ],
 "metadata": {
  "language_info": {
   "name": "python"
  }
 },
 "nbformat": 4,
 "nbformat_minor": 5
}
