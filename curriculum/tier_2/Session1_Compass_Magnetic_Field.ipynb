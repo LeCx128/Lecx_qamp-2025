{
 "cells": [
  {
   "cell_type": "markdown",
   "id": "ec51ddd8",
   "metadata": {},
   "source": [
    "\n",
    "# QBITS State Vectors and Your First Qiskit Circuit\n",
    "\n",
    "## Session 1: Magnetic Field and Compass Orientation\n",
    "\n",
    "### UDL + 5E Model — Duration: 2 hours\n",
    "\n",
    "---\n",
    "\n",
    "## 1. Engage — Connect with Experience\n",
    "\n",
    "> “Your compass seems undecided. The magnetic field in the environment fluctuates, and the needle vibrates without settling at a clear angle.  \n",
    "If you cool the system (lower the temperature), the noise decreases and the compass slowly finds its direction.  \n",
    "Could you simulate this behavior?”\n",
    "\n",
    "**Guiding Questions:**  \n",
    "- What happens to a compass when a magnet approaches it?  \n",
    "- How does its orientation change if the magnet moves or rotates?  \n",
    "\n",
    "**Brief Activity:**  \n",
    "Initial discussion and short demonstration with a real or simulated compass.\n",
    "\n",
    "**Physical Concept**\n",
    "- Fluctuations in the magnetic field are modeled as random noise (Gaussian or uniform) added to the angle $\\theta$, just as happens with a Qbit.\n",
    "- The temperature parameter controls the amplitude of this noise:\n",
    "  - High temperature → large noise → unstable orientation.\n",
    "  - Low temperature → small noise → stable orientation near the target angle.\n",
    "\n",
    "**Learning Objective**\n",
    "- Understand how a real physical system responds to random perturbations.\n",
    "- Connect the idea of thermal noise with the concept of stability of a state (magnetic, vectorial, or even quantum).\n"
   ]
  },
  {
   "cell_type": "markdown",
   "id": "d74b23c5",
   "metadata": {
    "vscode": {
     "languageId": "plaintext"
    }
   },
   "source": [
    "---\n",
    "## 2. Explore — Explore Without Code  \n",
    "> Free representation of the phenomenon, *without yet using Python*.  \n",
    "\n",
    "### 2.1 Options for the Instructor\n",
    "\n",
    "1. Guided observation (in-person or video):\n",
    "2. Show a real compass and a magnet.\n",
    "3. Bring the magnet close and observe the change in orientation.\n",
    "4. Record observations:\n",
    "5. Students draw the initial and final orientation of the needle.\n",
    "\n",
    "### 2.1.1 Exploratory Scientific Dialogue Questions:\n",
    "\n",
    "1. “Can we represent this change in angle as a turn or rotation despite the noise?”\n",
    "2. \"What force makes the needle turn?\"\n",
    "3. \"Does it depend on the distance or the angle of the magnet?\"\n",
    "\n",
    "### 2.2 Objective  \n",
    "Build intuition about the behavior of the magnetic system before formalizing it.\n",
    "\n",
    "### 2.3 Step-by-Step Algorithm Description (Functional Explanation of the Code)  \n",
    "1. **Input / Parameters**: define the initial vector and target angle.  \n",
    "2. **Noise Generation**: randomize the angle based on temperature.  \n",
    "3. **Observed Angle Calculation**: apply angular fluctuations.  \n",
    "4. **Transformation Application**: construct rotation matrix and rotate the vector.  \n",
    "5. **Recording and Visualization**: plot results.  \n",
    "6. **Analysis and Conclusion**: observe stability as temperature decreases.\n",
    "\n",
    "### 2.4 Example Code (Optional, Illustrative — Do Not Execute)\n",
    "```python\n",
    "M0 = [1, 0]\n",
    "theta0 = 45_deg\n",
    "for T in temperatures:\n",
    "    sigma = k * T\n",
    "    epsilon = random_normal(0, sigma)\n",
    "    theta = theta0 + epsilon\n",
    "    M = R(theta) @ M0\n",
    "    plot_point(Mx, My)\n"
   ]
  },
  {
   "cell_type": "markdown",
   "id": "892b8765",
   "metadata": {
    "vscode": {
     "languageId": "plaintext"
    }
   },
   "source": [
    "---\n",
    "## 3. Explain — Explain the Formal Concept  \n",
    "\n",
    "**Main Equation:**\n",
    "$$\n",
    "R(\\theta) =\n",
    "\\begin{bmatrix}\n",
    "\\cos\\theta & -\\sin\\theta \\\\\n",
    "\\sin\\theta & \\cos\\theta\n",
    "\\end{bmatrix}\n",
    "$$\n",
    "\n",
    "**Teaching Notes:**  \n",
    "- Show how the rotation matrix describes the effect of the magnetic field.  \n",
    "- Connect the symbolic language (matrix, vector, probability) with the initial situation.\n",
    "\n",
    "---\n",
    "\n",
    "## 4. Elaborate — Python Simulator\n"
   ]
  },
  {
   "cell_type": "code",
   "execution_count": null,
   "id": "0f34b7c1",
   "metadata": {},
   "outputs": [],
   "source": [
    "# --- 4. Elaborate — Apply with Python ---\n",
    "import numpy as np\n",
    "import matplotlib.pyplot as plt\n",
    "\n",
    "# 4.1 Parameters\n",
    "initial_vector = np.array([1.0, 0.0])\n",
    "target_angle = np.pi / 4       # 45 degrees input angle\n",
    "temperatures = np.linspace(1.0, 0.1, 200)\n",
    "k_factor = 0.2\n",
    "\n",
    "# 4.2 Simulation\n",
    "Mx_list, My_list, theta_list = [], [], []\n",
    "for T in temperatures:\n",
    "    sigma = k_factor * T\n",
    "    noise = np.random.normal(0, sigma)\n",
    "    theta = target_angle + noise\n",
    "    rotation_matrix = np.array([[np.cos(theta), -np.sin(theta)],\n",
    "                                [np.sin(theta),  np.cos(theta)]])\n",
    "    rotated_vector = rotation_matrix @ initial_vector\n",
    "    Mx_list.append(rotated_vector[0])\n",
    "    My_list.append(rotated_vector[1])\n",
    "    theta_list.append(theta)\n",
    "\n",
    "# 4.3 Visualization\n",
    "plt.figure(figsize=(6,6))\n",
    "plt.scatter(Mx_list, My_list, c=temperatures, cmap='viridis', s=18)\n",
    "plt.plot([0, np.cos(target_angle)], [0, np.sin(target_angle)], '--', label='Target Angle')\n",
    "plt.xlabel('Mx')\n",
    "plt.ylabel('My')\n",
    "plt.title('Compass Orientation vs Temperature')\n",
    "plt.axis('equal')\n",
    "plt.legend()\n",
    "plt.show()\n"
   ]
  },
  {
   "cell_type": "markdown",
   "id": "19d5302e",
   "metadata": {},
   "source": [
    "---\n",
    "## 5. Evaluate — Reflexión y evaluación formativa  \n",
    "\n",
    "**Preguntas de reflexión:**  \n",
    "- ¿Qué relaciones identificas entre el fenómeno físico y la simulación?  \n",
    "- ¿Cómo podrías usar este ejemplo con tus estudiantes?  \n",
    "- ¿Qué aspectos te resultaron más intuitivos o más abstractos?\n",
    "\n",
    "**Opcional:**  \n",
    "Mini bitácora docente (3 líneas) sobre su experiencia de exploración.\n"
   ]
  }
 ],
 "metadata": {
  "language_info": {
   "name": "python"
  }
 },
 "nbformat": 4,
 "nbformat_minor": 5
}
